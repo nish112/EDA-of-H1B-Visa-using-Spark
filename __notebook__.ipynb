{
  "cells": [
    {
      "cell_type": "code",
      "source": [
        "from pyspark import SparkContext\n",
        "from pyspark.sql import SQLContext\n",
        "import pandas as pd\n",
        "from pandas import DataFrame\n",
        "import numpy as np\n",
        "import statsmodels.api as sm\n",
        "import matplotlib.pyplot as plt"
      ],
      "outputs": [],
      "execution_count": null,
      "metadata": {
        "_cell_guid": "ffa03e50-06a0-43d3-8227-42640afd6310",
        "_uuid": "59bd7a4cf8be26161bf6e0926cd9a2337c57ead8"
      }
    },
    {
      "cell_type": "code",
      "source": [
        "#sc = SparkContext('local','example')  # if using locally\n",
        "sql_sc = SQLContext(sc)\n",
        "\n",
        "Spark_Full = sc.emptyRDD()\n",
        "chunk_100k = pd.read_csv('file:///home/cloudera/h1b_kaggle.csv', chunksize=100000)\n",
        "# if you have headers in your csv file:\n",
        "headers = list(pd.read_csv('file:///home/cloudera/h1b_kaggle.csv', nrows=0).columns)\n",
        "\n",
        "for chunky in chunk_100k:  #help was taken from stackeaxhange.com\n",
        "    Spark_Full +=  sc.parallelize(chunky.values.tolist())\n",
        "\n",
        "data = Spark_Full.toDF(headers)\n",
        "data.show()"
      ],
      "outputs": [],
      "execution_count": null,
      "metadata": {
        "_cell_guid": "d7eb1248-30de-4e7e-9184-38b4a2642b8e",
        "_execution_state": "idle",
        "_uuid": "2cfa00421a1a6ae161ca9878783d98d6672d7a67",
        "collapsed": false
      }
    },
    {
      "cell_type": "markdown",
      "source": [
        "+----------+-------------------+--------------------+--------------------+--------------------+------------------+---------------+----+--------------------+-------------------+------------------+\n",
        "|Unnamed: 0|        CASE_STATUS|       EMPLOYER_NAME|            SOC_NAME|           JOB_TITLE|FULL_TIME_POSITION|PREVAILING_WAGE|YEAR|            WORKSITE|                lon|               lat|\n",
        "+----------+-------------------+--------------------+--------------------+--------------------+------------------+---------------+----+--------------------+-------------------+------------------+\n",
        "|         1|CERTIFIED-WITHDRAWN|UNIVERSITY OF MIC...|BIOCHEMISTS AND B...|POSTDOCTORAL RESE...|                 N|        36067.0|2016| ANN ARBOR, MICHIGAN|        -83.7430378|        42.2808256|\n",
        "|         2|CERTIFIED-WITHDRAWN|GOODMAN NETWORKS,...|    CHIEF EXECUTIVES|CHIEF OPERATING O...|                 Y|       242674.0|2016|        PLANO, TEXAS|        -96.6988856|        33.0198431|\n",
        "|         3|CERTIFIED-WITHDRAWN|PORTS AMERICA GRO...|    CHIEF EXECUTIVES|CHIEF PROCESS OFF...|                 Y|       193066.0|2016|JERSEY CITY, NEW ...|        -74.0776417|        40.7281575|\n",
        "|         4|CERTIFIED-WITHDRAWN|GATES CORPORATION...|    CHIEF EXECUTIVES|REGIONAL PRESIDEN...|                 Y|       220314.0|2016|    DENVER, COLORADO|        -104.990251|39.739235799999996|\n",
        "|         5|          WITHDRAWN|PEABODY INVESTMEN...|    CHIEF EXECUTIVES|PRESIDENT MONGOLI...|                 Y|       157518.4|2016| ST. LOUIS, MISSOURI|        -90.1994042|        38.6270025|\n",
        "|         6|CERTIFIED-WITHDRAWN|BURGER KING CORPO...|    CHIEF EXECUTIVES|EXECUTIVE V P, GL...|                 Y|       225000.0|2016|      MIAMI, FLORIDA|        -80.1917902|        25.7616798|\n",
        "|         7|CERTIFIED-WITHDRAWN|BT AND MK ENERGY ...|    CHIEF EXECUTIVES|CHIEF OPERATING O...|                 Y|        91021.0|2016|      HOUSTON, TEXAS| -95.36980279999999|        29.7604267|\n",
        "|         8|CERTIFIED-WITHDRAWN|GLOBO MOBILE TECH...|    CHIEF EXECUTIVES|CHIEF OPERATIONS ...|                 Y|       150000.0|2016|SAN JOSE, CALIFORNIA|-121.88632859999998|37.338208200000004|\n",
        "|         9|CERTIFIED-WITHDRAWN|  ESI COMPANIES INC.|    CHIEF EXECUTIVES|           PRESIDENT|                 Y|       127546.0|2016|      MEMPHIS, TEXAS|                NaN|               NaN|\n",
        "|        10|          WITHDRAWN|LESSARD INTERNATI...|    CHIEF EXECUTIVES|           PRESIDENT|                 Y|       154648.0|2016|    VIENNA, VIRGINIA|        -77.2652604|38.901222499999996|\n",
        "|        11|CERTIFIED-WITHDRAWN|  H.J. HEINZ COMPANY|    CHIEF EXECUTIVES|CHIEF INFORMATION...|                 Y|       182978.0|2016|PITTSBURGH, PENNS...|        -79.9958864|40.440624799999995|\n",
        "|        12|CERTIFIED-WITHDRAWN|DOW CORNING CORPO...|    CHIEF EXECUTIVES|VICE PRESIDENT AN...|                 Y|       163717.0|2016|   MIDLAND, MICHIGAN| -84.24721159999999|        43.6155825|\n",
        "|        13|CERTIFIED-WITHDRAWN|    ACUSHNET COMPANY|    CHIEF EXECUTIVES|   TREASURER AND COO|                 Y|       203860.8|2016|FAIRHAVEN, MASSAC...|                NaN|               NaN|\n",
        "|        14|CERTIFIED-WITHDRAWN|       BIOCAIR, INC.|    CHIEF EXECUTIVES|CHIEF COMMERCIAL ...|                 Y|       252637.0|2016|      MIAMI, FLORIDA|        -80.1917902|        25.7616798|\n",
        "|        15|CERTIFIED-WITHDRAWN|NEWMONT MINING CO...|    CHIEF EXECUTIVES|        BOARD MEMBER|                 Y|       105914.0|2016|GREENWOOD VILLAGE...|-104.95081409999999|        39.6172101|\n",
        "|        16|CERTIFIED-WITHDRAWN|        VRICON, INC.|    CHIEF EXECUTIVES|CHIEF FINANCIAL O...|                 Y|       153046.0|2016|  STERLING, VIRGINIA|        -77.4291298|39.006699299999994|\n",
        "|        17|CERTIFIED-WITHDRAWN|CARDIAC SCIENCE C...|  FINANCIAL MANAGERS|VICE PRESIDENT OF...|                 Y|        90834.0|2016| WAUKESHA, WISCONSIN|        -88.2314813|        43.0116784|\n",
        "|        18|CERTIFIED-WITHDRAWN|WESTFIELD CORPORA...|    CHIEF EXECUTIVES|GENERAL MANAGER, ...|                 Y|       164050.0|2016|LOS ANGELES, CALI...|-118.24368490000002|        34.0522342|\n",
        "|        19|          CERTIFIED|      QUICKLOGIX LLC|    CHIEF EXECUTIVES|                 CEO|                 Y|       187200.0|2016|SANTA CLARA, CALI...|       -121.9552356|37.354107899999995|\n",
        "|        20|          CERTIFIED|MCCHRYSTAL GROUP,...|    CHIEF EXECUTIVES|PRESIDENT, NORTHE...|                 Y|       241842.0|2016|ALEXANDRIA, VIRGINIA|        -77.0469214|38.804835499999996|\n",
        "+----------+-------------------+--------------------+--------------------+--------------------+------------------+---------------+----+--------------------+-------------------+------------------+\n",
        "only showing top 20 rows\n"
      ],
      "metadata": {
        "_cell_guid": "4b3c098e-a5bb-4ea3-b15d-8a87262383b1",
        "_execution_state": "idle",
        "_uuid": "27e7c6c48383bd7082fc7de370474a75b8a37a84",
        "collapsed": false
      }
    },
    {
      "cell_type": "code",
      "source": [
        "data.printSchema()"
      ],
      "outputs": [],
      "execution_count": null,
      "metadata": {
        "_cell_guid": "b1b92530-0806-4a79-9718-6d72d5ee0830",
        "_execution_state": "idle",
        "_uuid": "d6037d7735ed6caa59ae9d3d859fd4ba11f7ac31",
        "collapsed": false
      }
    },
    {
      "cell_type": "markdown",
      "source": [
        "root\n",
        " |-- Unnamed: 0: long (nullable = true)\n",
        " |-- CASE_STATUS: string (nullable = true)\n",
        " |-- EMPLOYER_NAME: string (nullable = true)\n",
        " |-- SOC_NAME: string (nullable = true)\n",
        " |-- JOB_TITLE: string (nullable = true)\n",
        " |-- FULL_TIME_POSITION: string (nullable = true)\n",
        " |-- PREVAILING_WAGE: double (nullable = true)\n",
        " |-- YEAR: long (nullable = true)\n",
        " |-- WORKSITE: string (nullable = true)\n",
        " |-- lon: double (nullable = true)\n",
        " |-- lat: double (nullable = true)\n"
      ],
      "metadata": {
        "_cell_guid": "1fbc0b4f-f634-4770-bb8b-30cb542947be",
        "_execution_state": "idle",
        "_uuid": "066fb0e3f5659232a50896c5138ead8b24764e6f",
        "collapsed": false
      }
    },
    {
      "cell_type": "code",
      "source": [
        "data.head(10) #Previewing the data set"
      ],
      "outputs": [],
      "execution_count": null,
      "metadata": {
        "_cell_guid": "ab16183a-7d21-4763-a97d-2ae6543eb516",
        "_execution_state": "idle",
        "_uuid": "0e780afd9d4ecf70ee56868ea1df0127ca300f49",
        "collapsed": false
      }
    },
    {
      "cell_type": "markdown",
      "source": [
        "[Row(Unnamed: 0=1, CASE_STATUS=u'CERTIFIED-WITHDRAWN', EMPLOYER_NAME=u'UNIVERSITY OF MICHIGAN', SOC_NAME=u'BIOCHEMISTS AND BIOPHYSICISTS', JOB_TITLE=u'POSTDOCTORAL RESEARCH FELLOW', FULL_TIME_POSITION=u'N', PREVAILING_WAGE=36067.0, YEAR=2016, WORKSITE=u'ANN ARBOR, MICHIGAN', lon=-83.7430378, lat=42.2808256),\n",
        " Row(Unnamed: 0=2, CASE_STATUS=u'CERTIFIED-WITHDRAWN', EMPLOYER_NAME=u'GOODMAN NETWORKS, INC.', SOC_NAME=u'CHIEF EXECUTIVES', JOB_TITLE=u'CHIEF OPERATING OFFICER', FULL_TIME_POSITION=u'Y', PREVAILING_WAGE=242674.0, YEAR=2016, WORKSITE=u'PLANO, TEXAS', lon=-96.6988856, lat=33.0198431),\n",
        " Row(Unnamed: 0=3, CASE_STATUS=u'CERTIFIED-WITHDRAWN', EMPLOYER_NAME=u'PORTS AMERICA GROUP, INC.', SOC_NAME=u'CHIEF EXECUTIVES', JOB_TITLE=u'CHIEF PROCESS OFFICER', FULL_TIME_POSITION=u'Y', PREVAILING_WAGE=193066.0, YEAR=2016, WORKSITE=u'JERSEY CITY, NEW JERSEY', lon=-74.0776417, lat=40.7281575),\n",
        " Row(Unnamed: 0=4, CASE_STATUS=u'CERTIFIED-WITHDRAWN', EMPLOYER_NAME=u'GATES CORPORATION, A WHOLLY-OWNED SUBSIDIARY OF TOMKINS PLC', SOC_NAME=u'CHIEF EXECUTIVES', JOB_TITLE=u'REGIONAL PRESIDEN, AMERICAS', FULL_TIME_POSITION=u'Y', PREVAILING_WAGE=220314.0, YEAR=2016, WORKSITE=u'DENVER, COLORADO', lon=-104.990251, lat=39.739235799999996),\n",
        " Row(Unnamed: 0=5, CASE_STATUS=u'WITHDRAWN', EMPLOYER_NAME=u'PEABODY INVESTMENTS CORP.', SOC_NAME=u'CHIEF EXECUTIVES', JOB_TITLE=u'PRESIDENT MONGOLIA AND INDIA', FULL_TIME_POSITION=u'Y', PREVAILING_WAGE=157518.4, YEAR=2016, WORKSITE=u'ST. LOUIS, MISSOURI', lon=-90.1994042, lat=38.6270025),\n",
        " Row(Unnamed: 0=6, CASE_STATUS=u'CERTIFIED-WITHDRAWN', EMPLOYER_NAME=u'BURGER KING CORPORATION', SOC_NAME=u'CHIEF EXECUTIVES', JOB_TITLE=u'EXECUTIVE V P, GLOBAL DEVELOPMENT AND PRESIDENT, LATIN AMERI', FULL_TIME_POSITION=u'Y', PREVAILING_WAGE=225000.0, YEAR=2016, WORKSITE=u'MIAMI, FLORIDA', lon=-80.1917902, lat=25.7616798),\n",
        " Row(Unnamed: 0=7, CASE_STATUS=u'CERTIFIED-WITHDRAWN', EMPLOYER_NAME=u'BT AND MK ENERGY AND COMMODITIES', SOC_NAME=u'CHIEF EXECUTIVES', JOB_TITLE=u'CHIEF OPERATING OFFICER', FULL_TIME_POSITION=u'Y', PREVAILING_WAGE=91021.0, YEAR=2016, WORKSITE=u'HOUSTON, TEXAS', lon=-95.36980279999999, lat=29.7604267),\n",
        " Row(Unnamed: 0=8, CASE_STATUS=u'CERTIFIED-WITHDRAWN', EMPLOYER_NAME=u'GLOBO MOBILE TECHNOLOGIES, INC.', SOC_NAME=u'CHIEF EXECUTIVES', JOB_TITLE=u'CHIEF OPERATIONS OFFICER', FULL_TIME_POSITION=u'Y', PREVAILING_WAGE=150000.0, YEAR=2016, WORKSITE=u'SAN JOSE, CALIFORNIA', lon=-121.88632859999998, lat=37.338208200000004),\n",
        " Row(Unnamed: 0=9, CASE_STATUS=u'CERTIFIED-WITHDRAWN', EMPLOYER_NAME=u'ESI COMPANIES INC.', SOC_NAME=u'CHIEF EXECUTIVES', JOB_TITLE=u'PRESIDENT', FULL_TIME_POSITION=u'Y', PREVAILING_WAGE=127546.0, YEAR=2016, WORKSITE=u'MEMPHIS, TEXAS', lon=nan, lat=nan),\n",
        " Row(Unnamed: 0=10, CASE_STATUS=u'WITHDRAWN', EMPLOYER_NAME=u'LESSARD INTERNATIONAL LLC', SOC_NAME=u'CHIEF EXECUTIVES', JOB_TITLE=u'PRESIDENT', FULL_TIME_POSITION=u'Y', PREVAILING_WAGE=154648.0, YEAR=2016, WORKSITE=u'VIENNA, VIRGINIA', lon=-77.2652604, lat=38.901222499999996)]"
      ],
      "metadata": {
        "_cell_guid": "d160de1a-67fe-47e5-a4fc-94e7087ff626",
        "_execution_state": "idle",
        "_uuid": "70ff40a351a32bb9a5dc77b4cabc4ec0e8b0d0a1",
        "collapsed": false
      }
    },
    {
      "cell_type": "code",
      "source": [
        "# Impute Missing values\n",
        "data_new = data.fillna(-1)"
      ],
      "outputs": [],
      "execution_count": null,
      "metadata": {
        "_cell_guid": "5ec3649a-854a-43b8-829d-d68f79c0759c",
        "_execution_state": "idle",
        "_uuid": "3a8393f0ec7297d84fb75d2f82c553c97b2600e6",
        "collapsed": false
      }
    },
    {
      "cell_type": "code",
      "source": [
        "#Analyzing numerical features\n",
        "data_new.describe().show()"
      ],
      "outputs": [],
      "execution_count": null,
      "metadata": {
        "_cell_guid": "ca7c013b-e33d-4057-afaf-781a8d077b05",
        "_execution_state": "idle",
        "_uuid": "c3cb7e23519e5a30950e442b73f8c15b392a9710",
        "collapsed": false
      }
    },
    {
      "cell_type": "markdown",
      "source": [
        "+-------+-----------------+-----------------+------------------+------------------+------------------+\n",
        "|summary|       Unnamed: 0|  PREVAILING_WAGE|              YEAR|               lon|               lat|\n",
        "+-------+-----------------+-----------------+------------------+------------------+------------------+\n",
        "|  count|          3002458|          3002458|           3002458|           3002458|           3002458|\n",
        "|   mean|        1501229.5|146994.2703409599| 2012.207858028322|-88.87926183308647|36.761799080043886|\n",
        "| stddev|866735.1116028281|5287534.656582886|57.650513659531725|25.663494484688528|  8.59502050122896|\n",
        "|    min|                1|             -1.0|                -1|      -157.8583333|              -1.0|\n",
        "|    max|          3002458|     6.99760672E9|              2016|145.72978909999998|        64.8377778|\n",
        "+-------+-----------------+-----------------+------------------+------------------+------------------+\n",
        "\n"
      ],
      "metadata": {
        "_cell_guid": "c9dbddb6-13a9-483b-aea3-bf9072bd0884",
        "_execution_state": "idle",
        "_uuid": "790b9e76b47162dd69aae752126de3c0304d53e0",
        "collapsed": false
      }
    },
    {
      "cell_type": "code",
      "source": [
        "#Analyze the H1Bs by the status of their visa applications\n",
        "data_new.select('CASE_STATUS').show()"
      ],
      "outputs": [],
      "execution_count": null,
      "metadata": {
        "_cell_guid": "0268b1eb-0700-48bb-acfa-44f35435aa2c",
        "_execution_state": "idle",
        "_uuid": "5d6db61fa71555ab4694514392662af66dd40ac4",
        "collapsed": false
      }
    },
    {
      "cell_type": "markdown",
      "source": [
        "+-------------------+\n",
        "|        CASE_STATUS|\n",
        "+-------------------+\n",
        "|CERTIFIED-WITHDRAWN|\n",
        "|CERTIFIED-WITHDRAWN|\n",
        "|CERTIFIED-WITHDRAWN|\n",
        "|CERTIFIED-WITHDRAWN|\n",
        "|          WITHDRAWN|\n",
        "|CERTIFIED-WITHDRAWN|\n",
        "|CERTIFIED-WITHDRAWN|\n",
        "|CERTIFIED-WITHDRAWN|\n",
        "|CERTIFIED-WITHDRAWN|\n",
        "|          WITHDRAWN|\n",
        "|CERTIFIED-WITHDRAWN|\n",
        "|CERTIFIED-WITHDRAWN|\n",
        "|CERTIFIED-WITHDRAWN|\n",
        "|CERTIFIED-WITHDRAWN|\n",
        "|CERTIFIED-WITHDRAWN|\n",
        "|CERTIFIED-WITHDRAWN|\n",
        "|CERTIFIED-WITHDRAWN|\n",
        "|CERTIFIED-WITHDRAWN|\n",
        "|          CERTIFIED|\n",
        "|          CERTIFIED|\n",
        "+-------------------+\n",
        "only showing top 20 rows\n"
      ],
      "metadata": {
        "_cell_guid": "6812c085-9f01-4b37-9872-040a85ef0ac3",
        "_execution_state": "idle",
        "_uuid": "3d5989a2e03d29760edf88f8a2f7607479333dc7",
        "collapsed": false
      }
    },
    {
      "cell_type": "code",
      "source": [
        "data_new.select('CASE_STATUS').distinct().count() #to get distinct case status"
      ],
      "outputs": [],
      "execution_count": null,
      "metadata": {
        "_cell_guid": "0cc02724-8684-482d-90ef-9dd50b86e99f",
        "_execution_state": "idle",
        "_uuid": "dae2fc540d6b0500d87154f3a8d91d8e86b6f1ab",
        "collapsed": false
      }
    },
    {
      "cell_type": "markdown",
      "source": [
        "8"
      ],
      "metadata": {
        "_cell_guid": "1c4e66ea-c8ed-4ccd-a3b2-9030351736e9",
        "_execution_state": "idle",
        "_uuid": "0cb854a272dae7569f9b95642b8e7b52b2aa3b03",
        "collapsed": false
      }
    },
    {
      "cell_type": "code",
      "source": [
        "data_new.registerTempTable(\"data_new\")\n",
        "data_new.cache()"
      ],
      "outputs": [],
      "execution_count": null,
      "metadata": {
        "_cell_guid": "fe6836cc-aaf0-45e9-87b4-a0e6cab1a428",
        "_execution_state": "idle",
        "_uuid": "3e405500167393de2aef6cd20a069e7e611c6e65",
        "collapsed": false
      }
    },
    {
      "cell_type": "code",
      "source": [
        "#Identifying number of visas that are have different case status\n",
        "data_new.crosstab('EMPLOYER_NAME', 'CASE_STATUS').show()"
      ],
      "outputs": [],
      "execution_count": null,
      "metadata": {
        "_cell_guid": "da1eb016-5661-4aa5-8c56-df857303ba5c",
        "_execution_state": "idle",
        "_uuid": "53bf5209ca5268e4f266a11c1b482da178f9d222",
        "collapsed": false
      }
    },
    {
      "cell_type": "markdown",
      "source": [
        "+-------------------------+-------------------+---------+---------+------+--------------------------------------------------+-----------+--------+---+\n",
        "|EMPLOYER_NAME_CASE_STATUS|CERTIFIED-WITHDRAWN|CERTIFIED|WITHDRAWN|DENIED|PENDING QUALITY AND COMPLIANCE REVIEW - UNASSIGNED|INVALIDATED|REJECTED|NaN|\n",
        "+-------------------------+-------------------+---------+---------+------+--------------------------------------------------+-----------+--------+---+\n",
        "|     PATHWAY BIOLOGIC,...|                  0|        1|        0|     0|                                                 0|          0|       0|  0|\n",
        "|     TCL RESEARCH AMER...|                  0|       14|        1|     0|                                                 0|          0|       0|  0|\n",
        "|      UNIVERSITY OF MAINE|                  1|       97|        5|     3|                                                 0|          0|       0|  0|\n",
        "|             P2F HOLDINGS|                  0|        2|        0|     0|                                                 0|          0|       0|  0|\n",
        "|                M2S, INC.|                  0|       11|        0|     0|                                                 0|          0|       0|  0|\n",
        "|        NANOVIRICIDES INC|                  0|        1|        0|     2|                                                 0|          0|       0|  0|\n",
        "|     ARIZONA CANCER SP...|                  0|        1|        0|     0|                                                 0|          0|       0|  0|\n",
        "|      CLARITY MONEY, INC.|                  0|        1|        0|     0|                                                 0|          0|       0|  0|\n",
        "|     W.R. BERKLEY CORP...|                  0|        5|        2|     0|                                                 0|          0|       0|  0|\n",
        "|     S. VINODKUMAR USA...|                  0|        4|        0|     0|                                                 0|          0|       0|  0|\n",
        "|     CENTRAL FLORIDA B...|                  0|        0|        0|     1|                                                 0|          0|       0|  0|\n",
        "|       SPECIAL OPTICS,INC|                  0|        1|        0|     0|                                                 0|          0|       0|  0|\n",
        "|        SWEETWATER COUNTY|                  0|        1|        0|     0|                                                 0|          0|       0|  0|\n",
        "|       WONDERTREATS, INC.|                  0|        2|        0|     0|                                                 0|          0|       0|  0|\n",
        "|     T.K.CHEN INTERNAT...|                  0|        1|        0|     0|                                                 0|          0|       0|  0|\n",
        "|     THE GRENADIER COR...|                  0|        1|        0|     0|                                                 0|          0|       0|  0|\n",
        "|     MCCONNOR MEADE RI...|                  0|        1|        0|     0|                                                 0|          0|       0|  0|\n",
        "|     SONORA COMMUNITY ...|                  0|        1|        0|     0|                                                 0|          0|       0|  0|\n",
        "|            JOBHIVE, INC.|                  0|        1|        0|     0|                                                 0|          0|       0|  0|\n",
        "|         ARH STUDIOS INC.|                  0|        1|        0|     0|                                                 0|          0|       0|  0|\n",
        "+-------------------------+-------------------+---------+---------+------+--------------------------------------------------+-----------+--------+---+\n",
        "only showing top 20 rows\n"
      ],
      "metadata": {
        "_cell_guid": "20cf16ef-7e95-4976-ab33-bfc6129d9b63",
        "_execution_state": "idle",
        "_uuid": "08fe7a43f1c0412b6c45535fb387c8e0f385e949",
        "collapsed": false
      }
    },
    {
      "cell_type": "code",
      "source": [
        "#Top10 companies getting visa approval (for all the years)\n",
        "sql_sc.sql(\"SELECT EMPLOYER_NAME, count(EMPLOYER_NAME) as CERTIFIED_COUNT FROM data_new where CASE_STATUS = 'CERTIFIED' GROUP BY EMPLOYER_NAME order by CERTIFIED_COUNT desc\").show(10)"
      ],
      "outputs": [],
      "execution_count": null,
      "metadata": {
        "_cell_guid": "d3ecf15f-81f9-4b23-af40-dbf0a160020e",
        "_execution_state": "idle",
        "_uuid": "71877b48b7672e20023ccc60b3896f31f32287ff",
        "collapsed": false
      }
    },
    {
      "cell_type": "markdown",
      "source": [
        "+--------------------+---------------+\n",
        "|       EMPLOYER_NAME|CERTIFIED_COUNT|\n",
        "+--------------------+---------------+\n",
        "|     INFOSYS LIMITED|         129916|\n",
        "|TATA CONSULTANCY ...|          64237|\n",
        "|       WIPRO LIMITED|          43476|\n",
        "|DELOITTE CONSULTI...|          36120|\n",
        "|       ACCENTURE LLP|          32911|\n",
        "|IBM INDIA PRIVATE...|          27745|\n",
        "|MICROSOFT CORPORA...|          22333|\n",
        "|   HCL AMERICA, INC.|          22234|\n",
        "|ERNST & YOUNG U.S...|          17874|\n",
        "|LARSEN & TOUBRO I...|          16652|\n",
        "+--------------------+---------------+\n",
        "only showing top 10 rows\n"
      ],
      "metadata": {
        "_cell_guid": "9d8af602-5bac-4957-baa9-ffa45921d057",
        "_execution_state": "idle",
        "_uuid": "040a28d7564d5707d635b1aa4be7ce314872efa5",
        "collapsed": false
      }
    },
    {
      "cell_type": "code",
      "source": [
        "#Top10 companies getting visa approval (for year 2016)\n",
        "sql_sc.sql(\"SELECT EMPLOYER_NAME, count(EMPLOYER_NAME) as CERTIFIED_COUNT FROM data_new where CASE_STATUS = 'CERTIFIED' AND YEAR='2016' GROUP BY EMPLOYER_NAME order by CERTIFIED_COUNT desc\").show(10)\n"
      ],
      "outputs": [],
      "execution_count": null,
      "metadata": {
        "_cell_guid": "486b21f3-fc21-496b-b8e0-549faab2381c",
        "_execution_state": "idle",
        "_uuid": "e3a4044c7ec83fc8dc04be4b2df1e8a95d5e07e2",
        "collapsed": false
      }
    },
    {
      "cell_type": "markdown",
      "source": [
        "+--------------------+---------------+\n",
        "|       EMPLOYER_NAME|CERTIFIED_COUNT|\n",
        "+--------------------+---------------+\n",
        "|     INFOSYS LIMITED|          25322|\n",
        "|CAPGEMINI AMERICA...|          15957|\n",
        "|TATA CONSULTANCY ...|          13072|\n",
        "|       WIPRO LIMITED|           9528|\n",
        "|       ACCENTURE LLP|           9374|\n",
        "|IBM INDIA PRIVATE...|           7824|\n",
        "|DELOITTE CONSULTI...|           7500|\n",
        "|TECH MAHINDRA (AM...|           6681|\n",
        "|   HCL AMERICA, INC.|           4917|\n",
        "|MICROSOFT CORPORA...|           4669|\n",
        "+--------------------+---------------+\n",
        "only showing top 10 rows\n"
      ],
      "metadata": {
        "_cell_guid": "61f867d9-d90d-4689-a965-86270916ee00",
        "_execution_state": "idle",
        "_uuid": "bb2cf37311cf3c8f0f8ed1cece754d769a28e5f7",
        "collapsed": false
      }
    },
    {
      "cell_type": "code",
      "source": [
        "#Worksites for which most number of visas are approved or certified\n",
        "sql_sc.sql(\"SELECT WORKSITE, count(*) as Approved FROM data_new where CASE_STATUS = 'CERTIFIED' GROUP BY WORKSITE order by Approved desc\").show(5)"
      ],
      "outputs": [],
      "execution_count": null,
      "metadata": {
        "_cell_guid": "998cb9f7-3cf8-4405-aaa9-7a8ca195d381",
        "_execution_state": "idle",
        "_uuid": "c4109b8fda15024443516a287947ec2bd053aef7",
        "collapsed": false
      }
    },
    {
      "cell_type": "markdown",
      "source": [
        "+--------------------+--------+\n",
        "|            WORKSITE|Approved|\n",
        "+--------------------+--------+\n",
        "|  NEW YORK, NEW YORK|  163985|\n",
        "|      HOUSTON, TEXAS|   71540|\n",
        "|SAN FRANCISCO, CA...|   54336|\n",
        "|    ATLANTA, GEORGIA|   46877|\n",
        "|   CHICAGO, ILLINOIS|   45249|\n",
        "+--------------------+--------+\n",
        "only showing top 5 rows\n"
      ],
      "metadata": {
        "_cell_guid": "0ba3b712-e25c-4e6e-a07e-865f38d5fc92",
        "_execution_state": "idle",
        "_uuid": "61ae0829fbb5e18f0c9a340747093bd4085edc60",
        "collapsed": false
      }
    },
    {
      "cell_type": "code",
      "source": [
        "#Worksites for which most number of visas are approved or certified in the year 2016\n",
        "sql_sc.sql(\"SELECT WORKSITE, count(*) as Approved FROM data_new where CASE_STATUS = 'CERTIFIED' AND YEAR ='2016' GROUP BY WORKSITE order by Approved desc\").show(5)"
      ],
      "outputs": [],
      "execution_count": null,
      "metadata": {
        "_cell_guid": "c26a1a15-4fe5-4a7e-8bbe-da1f7a8c32cb",
        "_execution_state": "idle",
        "_uuid": "267244a443c7723a156ca7434dcd65983a87f2eb",
        "collapsed": false
      }
    },
    {
      "cell_type": "markdown",
      "source": [
        "+--------------------+--------+\n",
        "|            WORKSITE|Approved|\n",
        "+--------------------+--------+\n",
        "|  NEW YORK, NEW YORK|   34639|\n",
        "|SAN FRANCISCO, CA...|   13836|\n",
        "|      HOUSTON, TEXAS|   13655|\n",
        "|    ATLANTA, GEORGIA|   11678|\n",
        "|   CHICAGO, ILLINOIS|   11064|\n",
        "+--------------------+--------+\n",
        "only showing top 5 rows"
      ],
      "metadata": {
        "_cell_guid": "5acb9f1c-5206-4005-9f72-bf9061d8f5b5",
        "_execution_state": "idle",
        "_uuid": "f6a1edda23bed03da319e821acaadd8f11bf4f15",
        "collapsed": false
      }
    },
    {
      "cell_type": "code",
      "source": [
        "#TOP 5 JOB TITLE for which visa are approved\n",
        "sql_sc.sql(\"SELECT JOB_TITLE, count(*) as Approved FROM data_new where CASE_STATUS = 'CERTIFIED' GROUP BY JOB_TITLE order by Approved desc\").show(5)"
      ],
      "outputs": [],
      "execution_count": null,
      "metadata": {
        "_cell_guid": "f30f2f1d-c144-441f-a8a6-e4c01f475f5c",
        "_execution_state": "idle",
        "_uuid": "4d3abed53b5eda136176f2199214c2f8592023ef",
        "collapsed": false
      }
    },
    {
      "cell_type": "markdown",
      "source": [
        "+-------------------+--------+\n",
        "|          JOB_TITLE|Approved|\n",
        "+-------------------+--------+\n",
        "| PROGRAMMER ANALYST|  222730|\n",
        "|  SOFTWARE ENGINEER|  102990|\n",
        "|COMPUTER PROGRAMMER|   64018|\n",
        "|    SYSTEMS ANALYST|   55744|\n",
        "| SOFTWARE DEVELOPER|   37771|\n",
        "+-------------------+--------+\n",
        "only showing top 5 rows\n"
      ],
      "metadata": {
        "_cell_guid": "226db753-4982-477a-bbaa-f10da6e2a633",
        "_execution_state": "idle",
        "_uuid": "9fae3e85a2608219adc250d974beaafa7d57133e",
        "collapsed": false
      }
    },
    {
      "cell_type": "code",
      "source": [
        "#TOP 5 JOB TITLE for which visa are approved in the year 2016\n",
        "sql_sc.sql(\"SELECT JOB_TITLE, count(*) as Approved FROM data_new where CASE_STATUS = 'CERTIFIED' AND YEAR='2016' GROUP BY JOB_TITLE order by Approved desc\").show(5)"
      ],
      "outputs": [],
      "execution_count": null,
      "metadata": {
        "_cell_guid": "b9fda4a3-0067-40df-8b16-f6af79546328",
        "_execution_state": "idle",
        "_uuid": "adcf12b8e57cf9a93793b4997f8bd776d90096fb",
        "collapsed": false
      }
    },
    {
      "cell_type": "markdown",
      "source": [
        "+-------------------+--------+\n",
        "|          JOB_TITLE|Approved|\n",
        "+-------------------+--------+\n",
        "| PROGRAMMER ANALYST|   47964|\n",
        "|  SOFTWARE ENGINEER|   25890|\n",
        "| SOFTWARE DEVELOPER|   12474|\n",
        "|    SYSTEMS ANALYST|   10986|\n",
        "|COMPUTER PROGRAMMER|   10528|\n",
        "+-------------------+--------+\n",
        "only showing top 5 rows\n"
      ],
      "metadata": {
        "_cell_guid": "f793437f-9254-49e7-acdb-1d4f4579e604",
        "_execution_state": "idle",
        "_uuid": "267ae4376a75f65a3a3940884e7ba093d6ab3e18",
        "collapsed": false
      }
    },
    {
      "cell_type": "code",
      "source": [
        "# As we can see the job title getting most approvals is programmer_analyst\n",
        "#Lets check which are the company sending most number of programmed analyst and getting approval on H1B Visa \n",
        "sql_sc.sql(\"SELECT EMPLOYER_NAME,count(*) as Approved FROM data_new where CASE_STATUS = 'CERTIFIED' AND JOB_TITLE ='PROGRAMMER ANALYST' GROUP BY EMPLOYER_NAME order by Approved desc\").show(5)"
      ],
      "outputs": [],
      "execution_count": null,
      "metadata": {
        "_cell_guid": "edd8a756-54e0-4332-8abc-276458f0bd71",
        "_execution_state": "idle",
        "_uuid": "51a7271ed2450bd95ba69f466995ca9115e6849f",
        "collapsed": false
      }
    },
    {
      "cell_type": "markdown",
      "source": [
        "+--------------------+--------+\n",
        "|       EMPLOYER_NAME|Approved|\n",
        "+--------------------+--------+\n",
        "|       WIPRO LIMITED|    7292|\n",
        "|SYNTEL CONSULTING...|    2185|\n",
        "|RELIABLE SOFTWARE...|    1914|\n",
        "|   3I INFOTECH, INC.|    1487|\n",
        "|HTC GLOBAL SERVIC...|    1457|\n",
        "+--------------------+--------+\n",
        "only showing top 5 rows\n"
      ],
      "metadata": {
        "_cell_guid": "40a41697-595f-47a8-a54f-8f8996bda7e5",
        "_execution_state": "idle",
        "_uuid": "1f8b66b82db498596b39ad02642594b7b4f1ef08",
        "collapsed": false
      }
    },
    {
      "cell_type": "code",
      "source": [
        "#Lets check which are the company sending most number of programmed analyst and getting approval on H1B Visa in the year 2016\n",
        "sql_sc.sql(\"SELECT EMPLOYER_NAME,count(*) as Approved FROM data_new where CASE_STATUS = 'CERTIFIED' AND YEAR='2016' AND JOB_TITLE ='PROGRAMMER ANALYST' GROUP BY EMPLOYER_NAME order by Approved desc\").show(5)"
      ],
      "outputs": [],
      "execution_count": null,
      "metadata": {
        "_cell_guid": "76ea738f-17d5-4d61-bc12-03eb23a4abab",
        "_execution_state": "idle",
        "_uuid": "545b640c742c7c598141c39aac3466dbe503dfc1",
        "collapsed": false
      }
    },
    {
      "cell_type": "markdown",
      "source": [
        "+--------------------+--------+\n",
        "|       EMPLOYER_NAME|Approved|\n",
        "+--------------------+--------+\n",
        "|SYNTEL CONSULTING...|    1409|\n",
        "|       WIPRO LIMITED|    1159|\n",
        "|HTC GLOBAL SERVIC...|     556|\n",
        "|          SYNTEL INC|     524|\n",
        "|RELIABLE SOFTWARE...|     463|\n",
        "+--------------------+--------+\n",
        "only showing top 5 rows\n",
        "\n"
      ],
      "metadata": {
        "_cell_guid": "5c4ad7c2-eb98-4c94-9b4e-03125b1696c7",
        "_execution_state": "idle",
        "_uuid": "5810a5265734a8bf7314a41214a8b483b78e995d",
        "collapsed": false
      }
    },
    {
      "cell_type": "code",
      "source": [
        "#H-1B Salaries Analysis\n",
        "sql_sc.sql(\"SELECT EMPLOYER_NAME as businesses, PREVAILING_WAGE as wage, SOC_NAME, JOB_TITLE, YEAR, FULL_TIME_POSITION, CASE_STATUS  FROM data_new where CASE_STATUS ='CERTIFIED' order by PREVAILING_WAGE desc\").show(10)\n"
      ],
      "outputs": [],
      "execution_count": null,
      "metadata": {
        "_cell_guid": "0bdd320c-52ae-4d0e-a581-02c32e0bfadb",
        "_execution_state": "idle",
        "_uuid": "22abb14f025e85fbdb30b930671ac6cc5ac1980e",
        "collapsed": false
      }
    },
    {
      "cell_type": "markdown",
      "source": [
        "+--------------------+--------+\n",
        "|       EMPLOYER_NAME|Approved|\n",
        "+--------------------+--------+\n",
        "|SYNTEL CONSULTING...|    1409|\n",
        "|       WIPRO LIMITED|    1159|\n",
        "|HTC GLOBAL SERVIC...|     556|\n",
        "|          SYNTEL INC|     524|\n",
        "|RELIABLE SOFTWARE...|     463|\n",
        "+--------------------+--------+\n",
        "only showing top 5 rows\n"
      ],
      "metadata": {
        "_cell_guid": "9c2983b3-b4be-4b40-a319-47d73b6cbe5e",
        "_execution_state": "idle",
        "_uuid": "53980d10c2cd9b8722f5b4d6bfb77b00bd57809d",
        "collapsed": false
      }
    },
    {
      "cell_type": "code",
      "source": [
        "#H-1B Salaries Analysis\n",
        "sql_sc.sql(\"SELECT EMPLOYER_NAME as businesses, PREVAILING_WAGE as wage, SOC_NAME, JOB_TITLE, YEAR, FULL_TIME_POSITION, CASE_STATUS  FROM data_new where CASE_STATUS ='CERTIFIED' order by PREVAILING_WAGE desc\").show(10)\n"
      ],
      "outputs": [],
      "execution_count": null,
      "metadata": {
        "_cell_guid": "3aef58f5-a146-4aeb-96f5-6f4dac23b1cc",
        "_execution_state": "idle",
        "_uuid": "7fdf207d2b67f75204b3538301eb6d0db30a8517",
        "collapsed": false
      }
    },
    {
      "cell_type": "markdown",
      "source": [
        "+--------------------+------------+--------------------+--------------------+----+------------------+-----------+\n",
        "|          businesses|        wage|            SOC_NAME|           JOB_TITLE|YEAR|FULL_TIME_POSITION|CASE_STATUS|\n",
        "+--------------------+------------+--------------------+--------------------+----+------------------+-----------+\n",
        "|INTEGRATED MEDICA...| 3.0604912E8| Internists, General|RADIATION ONCOLOGIST|2011|                 Y|  CERTIFIED|\n",
        "|DEPARTMENT OF VET...| 2.6927472E8|Physicians and Su...|           PHYSICIAN|2011|                 Y|  CERTIFIED|\n",
        "| SHELBY HOSPITAL LCC| 2.1839584E8|Family and Genera...| ATTENDING PHYSICIAN|2011|                 Y|  CERTIFIED|\n",
        "|         GOOGLE INC.|2.07277824E8|Software Develope...|   SOFTWARE ENGINEER|2012|                 Y|  CERTIFIED|\n",
        "|    SOAPROJECTS, INC| 1.8123248E8|ACCOUNTANTS AND A...|SR. MANAGER, SOX ...|2015|                 Y|  CERTIFIED|\n",
        "|INFORMATION CONTR...| 1.6950752E8|Computer Systems ...|STAFF CONSULTANT ...|2013|                 Y|  CERTIFIED|\n",
        "|              SARVIN| 1.6717168E8|Computer Systems ...| PRINCIPAL ARCHITECT|2011|                 Y|  CERTIFIED|\n",
        "|     INFOSYS LIMITED| 1.6163472E8|Computer Systems ...|         MODULE LEAD|2012|                 Y|  CERTIFIED|\n",
        "|CONGRUENT SOLUTIO...| 1.5998944E8|Software Develope...|  SOFTWARE DEVELOPER|2012|                 Y|  CERTIFIED|\n",
        "|HUMETIS TECHNOLOG...|1.42857728E8|Computer Programmers|  PROGRAMMER ANALYST|2011|                 Y|  CERTIFIED|\n",
        "+--------------------+------------+--------------------+--------------------+----+------------------+-----------+\n",
        "only showing top 10 rows"
      ],
      "metadata": {
        "_cell_guid": "f3abd550-9684-4b45-acc8-816eaf7b14e8",
        "_execution_state": "idle",
        "_uuid": "c7b2cb62e86631ed33e08c98057a7d6562c491c5",
        "collapsed": false
      }
    },
    {
      "cell_type": "code",
      "source": [
        "#Identifying maximim salary by job titles for fulltime position \n",
        "sql_sc.sql(\"SELECT JOB_TITLE ,MAX(PREVAILING_WAGE) as Max_Salary FROM data_new where CASE_STATUS ='CERTIFIED' AND  FULL_TIME_POSITION ='Y' GROUP BY JOB_TITLE ORDER BY Max_Salary DESC\").show(10)"
      ],
      "outputs": [],
      "execution_count": null,
      "metadata": {
        "_cell_guid": "1cc8320b-54c6-44cd-9a45-1203d7784aab",
        "_execution_state": "idle",
        "_uuid": "203b986006a0583ac3f5148dddbedb4da6ee07f6",
        "collapsed": false
      }
    },
    {
      "cell_type": "markdown",
      "source": [
        "+--------------------+------------+\n",
        "|           JOB_TITLE|  Max_Salary|\n",
        "+--------------------+------------+\n",
        "|RADIATION ONCOLOGIST| 3.0604912E8|\n",
        "|           PHYSICIAN| 2.6927472E8|\n",
        "| ATTENDING PHYSICIAN| 2.1839584E8|\n",
        "|   SOFTWARE ENGINEER|2.07277824E8|\n",
        "|SR. MANAGER, SOX ...| 1.8123248E8|\n",
        "|STAFF CONSULTANT ...| 1.6950752E8|\n",
        "| PRINCIPAL ARCHITECT| 1.6717168E8|\n",
        "|         MODULE LEAD| 1.6163472E8|\n",
        "|  SOFTWARE DEVELOPER| 1.5998944E8|\n",
        "|  PROGRAMMER ANALYST|1.42857728E8|\n",
        "+--------------------+------------+\n",
        "only showing top 10 rows\n"
      ],
      "metadata": {
        "_cell_guid": "f04f0aa9-45eb-4208-a7f2-518ca08a1dc9",
        "_execution_state": "idle",
        "_uuid": "7946f3588b90b1cad036107e148f5de350114418",
        "collapsed": false
      }
    },
    {
      "cell_type": "code",
      "source": [
        "#Identifying maximim salary by job titles for fulltime position for 2016\n",
        "sql_sc.sql(\"SELECT JOB_TITLE ,MAX(PREVAILING_WAGE) as Max_Salary FROM data_new where CASE_STATUS ='CERTIFIED' AND  FULL_TIME_POSITION ='Y' AND YEAR='2016' GROUP BY JOB_TITLE ORDER BY Max_Salary DESC\").show(10)"
      ],
      "outputs": [],
      "execution_count": null,
      "metadata": {
        "_cell_guid": "df541b52-f12e-4de4-a085-7d1dddcfb20e",
        "_execution_state": "idle",
        "_uuid": "878f2e9ab0e06cd79f3488b5cc6e48aa89f3443d",
        "collapsed": false
      }
    },
    {
      "cell_type": "markdown",
      "source": [
        "+--------------------+----------+\n",
        "|           JOB_TITLE|Max_Salary|\n",
        "+--------------------+----------+\n",
        "|    SYSTEMS ANALYSTS|9.119968E7|\n",
        "|CHIEF CREATIVE OF...|  631700.0|\n",
        "|CARDIOLOGIST PHYS...|  488400.0|\n",
        "|INTERVENTIONAL CA...|  413484.0|\n",
        "|    ANESTHESIOLOGIST|  395480.0|\n",
        "|  EXECUTIVE DIRECTOR|  387132.0|\n",
        "|CARDIOLOGIST/INTE...|  350000.0|\n",
        "|VISITING ASSISTAN...|  341286.4|\n",
        "|        NEUROSURGEON|  338525.0|\n",
        "|             SURGEON|  330780.0|\n",
        "+--------------------+----------+\n",
        "only showing top 10 rows\n",
        "\n"
      ],
      "metadata": {
        "_cell_guid": "b5b43d39-1832-4a11-af64-53c0666d5e8d",
        "_execution_state": "idle",
        "_uuid": "53fa6df249ab48ed8b15971157bc77fbc56363db",
        "collapsed": false
      }
    },
    {
      "cell_type": "code",
      "source": [
        "#Identifying maximum salary by employers for fulltime position \n",
        "sql_sc.sql(\"SELECT EMPLOYER_NAME ,MAX(PREVAILING_WAGE) as Max_Salary FROM data_new where CASE_STATUS ='CERTIFIED' AND  FULL_TIME_POSITION ='Y' GROUP BY EMPLOYER_NAME ORDER BY Max_Salary DESC\").show(10)"
      ],
      "outputs": [],
      "execution_count": null,
      "metadata": {
        "_cell_guid": "a56f89c4-1616-43b4-b1dd-786d43495e0b",
        "_execution_state": "idle",
        "_uuid": "09c7ab043c4f8f1b00eafebe2c880dcff53d31ee",
        "collapsed": false
      }
    },
    {
      "cell_type": "markdown",
      "source": [
        "+--------------------+------------+\n",
        "|       EMPLOYER_NAME|  Max_Salary|\n",
        "+--------------------+------------+\n",
        "|INTEGRATED MEDICA...| 3.0604912E8|\n",
        "|DEPARTMENT OF VET...| 2.6927472E8|\n",
        "| SHELBY HOSPITAL LCC| 2.1839584E8|\n",
        "|         GOOGLE INC.|2.07277824E8|\n",
        "|    SOAPROJECTS, INC| 1.8123248E8|\n",
        "|INFORMATION CONTR...| 1.6950752E8|\n",
        "|              SARVIN| 1.6717168E8|\n",
        "|     INFOSYS LIMITED| 1.6163472E8|\n",
        "|CONGRUENT SOLUTIO...| 1.5998944E8|\n",
        "|HUMETIS TECHNOLOG...|1.42857728E8|\n",
        "+--------------------+------------+\n",
        "only showing top 10 rows\n"
      ],
      "metadata": {
        "_cell_guid": "97a03e87-2a72-4788-9fb4-9cbd326ca707",
        "_execution_state": "idle",
        "_uuid": "685bb61a8985d61ae4585537d5c5bdc1f2ec904b",
        "collapsed": false
      }
    },
    {
      "cell_type": "code",
      "source": [
        "#Identifying maximum salary by employers for fulltime position for 2016\n",
        "sql_sc.sql(\"SELECT EMPLOYER_NAME ,MAX(PREVAILING_WAGE) as Max_Salary FROM data_new where CASE_STATUS ='CERTIFIED' AND  FULL_TIME_POSITION ='Y' AND YEAR='2016' GROUP BY EMPLOYER_NAME ORDER BY Max_Salary DESC\").show(10)"
      ],
      "outputs": [],
      "execution_count": null,
      "metadata": {
        "_cell_guid": "89f1530d-ae09-44b4-a48f-9046ab2a8cac",
        "_execution_state": "idle",
        "_uuid": "9123055b161f50f142dbf0a83dfb7acf614c92e2",
        "collapsed": false
      }
    },
    {
      "cell_type": "markdown",
      "source": [
        "+--------------------+----------+\n",
        "|       EMPLOYER_NAME|Max_Salary|\n",
        "+--------------------+----------+\n",
        "|       BIRLASOFT INC|9.119968E7|\n",
        "|SAATCHI & SAATCHI...|  631700.0|\n",
        "|MERCY PROFESSIONA...|  488400.0|\n",
        "|NORTHERN NEVADA M...|  413484.0|\n",
        "|EVANGELICAL MEDIC...|  395480.0|\n",
        "|VIRTUAL EDUCA FOU...|  387132.0|\n",
        "|WESTERN KENTUCKY ...|  350000.0|\n",
        "|     PRATT INSTITUTE|  341286.4|\n",
        "|MCALLEN HOSPITALI...|  338525.0|\n",
        "|         MAYO CLINIC|  330780.0|\n",
        "+--------------------+----------+\n",
        "only showing top 10 rows\n"
      ],
      "metadata": {
        "_cell_guid": "19352c52-8229-4907-8a5c-22018522eaa2",
        "_execution_state": "idle",
        "_uuid": "65a37ec8c24e6315f21ea8d6d8b424d76a2edcda",
        "collapsed": false
      }
    }
  ],
  "metadata": {
    "kernelspec": {
      "name": "python3",
      "language": "python",
      "display_name": "Python 3"
    },
    "language_info": {
      "nbconvert_exporter": "python",
      "name": "python",
      "file_extension": ".py",
      "codemirror_mode": {
        "name": "ipython",
        "version": 3
      },
      "mimetype": "text/x-python",
      "pygments_lexer": "ipython3",
      "version": "3.5.2"
    },
    "kernel_info": {
      "name": "python3"
    },
    "nteract": {
      "version": "0.4.3"
    }
  },
  "nbformat": 4,
  "nbformat_minor": 0
}